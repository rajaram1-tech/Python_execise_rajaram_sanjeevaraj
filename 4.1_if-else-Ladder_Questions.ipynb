{
 "cells": [
  {
   "cell_type": "raw",
   "metadata": {},
   "source": [
    "Read Five marks tamil,english,maths,science and social and if all marks are greater than 35 , print pass else print fail"
   ]
  },
  {
   "cell_type": "code",
   "execution_count": 12,
   "metadata": {},
   "outputs": [
    {
     "name": "stdin",
     "output_type": "stream",
     "text": [
      "enter the tamil marks: 20\n",
      "enter the english marks: 20\n",
      "enter the maths marks: 20\n",
      "enter the science marks: 20\n",
      "enter the social marks: 20\n"
     ]
    },
    {
     "name": "stdout",
     "output_type": "stream",
     "text": [
      "FAIL\n"
     ]
    }
   ],
   "source": [
    "tamil=int(input(\"enter the tamil marks:\"))\n",
    "english=int(input(\"enter the english marks:\"))\n",
    "maths=int(input(\"enter the maths marks:\"))\n",
    "science=int(input(\"enter the science marks:\"))\n",
    "social=int(input(\"enter the social marks:\"))\n",
    "if tamil >=35:\n",
    "    if english >=35:\n",
    "        if maths >=35:\n",
    "            if science >=35:\n",
    "                if social >=35:\n",
    "                    print(\"PASS\")\n",
    "else:\n",
    "    print(\"FAIL\")\n",
    "    \n",
    "    "
   ]
  },
  {
   "cell_type": "code",
   "execution_count": null,
   "metadata": {},
   "outputs": [],
   "source": []
  }
 ],
 "metadata": {
  "kernelspec": {
   "display_name": "Python [conda env:base] *",
   "language": "python",
   "name": "conda-base-py"
  },
  "language_info": {
   "codemirror_mode": {
    "name": "ipython",
    "version": 3
   },
   "file_extension": ".py",
   "mimetype": "text/x-python",
   "name": "python",
   "nbconvert_exporter": "python",
   "pygments_lexer": "ipython3",
   "version": "3.13.5"
  }
 },
 "nbformat": 4,
 "nbformat_minor": 4
}
